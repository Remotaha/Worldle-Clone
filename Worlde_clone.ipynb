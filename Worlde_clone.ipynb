{
 "cells": [
  {
   "cell_type": "code",
   "execution_count": 7,
   "id": "19ffd38e",
   "metadata": {},
   "outputs": [],
   "source": [
    "# module importing\n",
    "import pandas as pd\n",
    "import random\n",
    "import math\n",
    "from IPython import display\n",
    "\n"
   ]
  },
  {
   "cell_type": "code",
   "execution_count": 8,
   "id": "670e729a",
   "metadata": {},
   "outputs": [],
   "source": [
    "#cvs file reading\n",
    "world_file=\"coordinates.csv\"\n",
    "world_data=pd.read_csv(world_file)\n"
   ]
  },
  {
   "cell_type": "code",
   "execution_count": 9,
   "id": "420b5a1a",
   "metadata": {},
   "outputs": [
    {
     "name": "stdout",
     "output_type": "stream",
     "text": [
      "Yemen\n",
      "YE\n",
      "48.0\n",
      "15.0\n"
     ]
    },
    {
     "data": {
      "image/png": "[encoded data removed]",
      "text/plain": [
       "<IPython.core.display.Image object>"
      ]
     },
     "execution_count": 9,
     "metadata": {},
     "output_type": "execute_result"
    }
   ],
   "source": [
    "#data set\n",
    "randnumber=random.randint(2,241)#choosing random country\n",
    "global rand_country_name\n",
    "\n",
    "rand_country_code=world_data.Code[randnumber]\n",
    "rand_country_name=world_data.Name[randnumber]\n",
    "rand_country_lat=world_data.Lat[randnumber]\n",
    "rand_country_lon=world_data.Lon[randnumber]\n",
    "\n",
    "#control point\n",
    "print(rand_country_name)\n",
    "print(rand_country_code)\n",
    "print(rand_country_lon)\n",
    "print(rand_country_lat)\n",
    "\n",
    "#map vector\n",
    "display.Image(\"https://fvmstatic.s3.amazonaws.com/maps/m/{}-EPS-01-0001.png\".format(rand_country_code))\n"
   ]
  },
  {
   "cell_type": "code",
   "execution_count": 10,
   "id": "043cde36",
   "metadata": {},
   "outputs": [],
   "source": [
    "#defining function for distance between two countries\n",
    "def Distance(guess):\n",
    "    from math import sin,cos,acos\n",
    "    \n",
    "    global percent\n",
    "    global distance_km\n",
    "     \n",
    "        \n",
    "    target_lat=rand_country_lat\n",
    "    target_lon=rand_country_lon\n",
    "    target_lat_rad=target_lat/57.29577951\n",
    "    target_lon_rad=target_lon/57.29577951\n",
    "    \n",
    "    #GUESS PART\n",
    "    \n",
    "    line=0\n",
    "    global finding_line\n",
    "    for i in world_data.Code:\n",
    "        if i==guess:\n",
    "            finding_line=line\n",
    "        else:\n",
    "            pass\n",
    "        \n",
    "        line+=1\n",
    "        \n",
    "    guess_lat=world_data.Lat[finding_line]\n",
    "    guess_lon=world_data.Lon[finding_line]\n",
    "    guess_lat_rad=guess_lat/57.29577951\n",
    "    guess_lon_rad=guess_lon/57.29577951\n",
    "    \n",
    "    #distance formula\n",
    "    distance_mile = 3963.0 * acos((sin(guess_lat_rad) * sin(target_lat_rad)) + cos(guess_lat_rad) * cos(target_lat_rad) * cos(target_lon_rad - guess_lon_rad))\n",
    "    distance_km=distance_mile*1.609344\n",
    "    \n",
    "    percent=100-(distance_km/200)\n",
    "\n",
    "    return distance_km,int(percent)\n",
    "    "
   ]
  },
  {
   "cell_type": "code",
   "execution_count": 11,
   "id": "5fd22405",
   "metadata": {},
   "outputs": [],
   "source": [
    "#defining function for direction help\n",
    "\n",
    "def Direction(guess):\n",
    "    target_lat=rand_country_lat\n",
    "    target_lon=rand_country_lon\n",
    "    \n",
    "    global symbol\n",
    "\n",
    "    \n",
    "    #GUESS PART\n",
    "    symbol=\"\"\n",
    "    \n",
    "    line=0\n",
    "    global finding_line\n",
    "    for i in world_data.Code:\n",
    "        if i==guess:\n",
    "            finding_line=line\n",
    "        else:\n",
    "            pass\n",
    "        \n",
    "        line+=1\n",
    "        \n",
    "    guess_lat=world_data.Lat[finding_line]\n",
    "    guess_lon=world_data.Lon[finding_line]\n",
    "    \n",
    "    #distance of coordinates between tho countries\n",
    "    distance_lat=guess_lat-target_lat\n",
    "    distance_lon=guess_lon-target_lon\n",
    "    \n",
    "    a=5 #location tolerance for direction\n",
    "    \n",
    "    if distance_lat>a and distance_lon<-a:\n",
    "        symbol=\"⇘\"\n",
    "    elif distance_lat>a and (distance_lon<a and distance_lon>-a):\n",
    "        symbol=\"⇓\"\n",
    "    elif distance_lat>a and distance_lon>a:\n",
    "        symbol=\"⇙\"\n",
    "    elif distance_lat<a and distance_lat>-a and distance_lon>a:\n",
    "        symbol=\"⇐\"\n",
    "    elif distance_lat<-a and distance_lon>a:\n",
    "        symbol=\"⇖\"\n",
    "    elif distance_lat<-a and distance_lon<a and distance_lon>-a:\n",
    "        symbol=\"⇑\"\n",
    "    elif distance_lat<-a and distance_lon<-a:\n",
    "        symbol=\"⇗\"\n",
    "    elif distance_lat<a and distance_lat>-a and distance_lon<-3:\n",
    "        symbol=\"⇒\"\n",
    "    else:\n",
    "        pass\n",
    "    \n",
    "    return symbol\n",
    "\n",
    "\n",
    "  \n",
    "\n",
    "\n",
    "\n",
    "        "
   ]
  },
  {
   "cell_type": "code",
   "execution_count": 14,
   "id": "581b146a",
   "metadata": {},
   "outputs": [
    {
     "name": "stdout",
     "output_type": "stream",
     "text": [
      "TR\n",
      " \n",
      "TR: 2958.0 ■ ■ ■ ■ □ 85.0 ⇘ 5 attempt remaining.\n",
      "US\n",
      " \n",
      "TR: 2958.0 ■ ■ ■ ■ □ 85.0 ⇘ 5 attempt remaining. \n",
      "US: 13096.0 ■ □ □ □ □ 34.0 ⇘ 4 attempt remaining.\n",
      "ZM\n",
      " \n",
      "TR: 2958.0 ■ ■ ■ ■ □ 85.0 ⇘ 5 attempt remaining. \n",
      "US: 13096.0 ■ □ □ □ □ 34.0 ⇘ 4 attempt remaining. \n",
      "ZM: 3882.0 ■ ■ ■ ■ □ 80.0 ⇗ 3 attempt remaining.\n",
      "CD\n",
      " \n",
      "TR: 2958.0 ■ ■ ■ ■ □ 85.0 ⇘ 5 attempt remaining. \n",
      "US: 13096.0 ■ □ □ □ □ 34.0 ⇘ 4 attempt remaining. \n",
      "ZM: 3882.0 ■ ■ ■ ■ □ 80.0 ⇗ 3 attempt remaining. \n",
      "CD: 3031.0 ■ ■ ■ ■ □ 84.0 ⇗ 2 attempt remaining.\n",
      "YE\n",
      "Correct Well Done!\n",
      "■ ■ ■ ■ ■ Yemen\n"
     ]
    }
   ],
   "source": [
    "#UI\n",
    "count=6  #attempt count\n",
    "text=\"\"\n",
    "while count>0 or country_in==\"Yes\":\n",
    "    \n",
    "    \n",
    "    country_in=input()\n",
    "    \n",
    "    if country_in==rand_country_code:\n",
    "        print(\"Correct Well Done!\")\n",
    "        print(\"■ \"*5+rand_country_name)\n",
    "        break\n",
    "        \n",
    "        \n",
    "    \n",
    "   \n",
    "    Distance(country_in)\n",
    "    direction=Direction(country_in)\n",
    "    square_count=int(percent)//20\n",
    "    Template=country_in+\": \"+str(distance_km//1)+\" \"+square_count*\"■ \"+((5-square_count)*\"□ \"+str(percent//1))+\" \"+symbol\n",
    "    \n",
    "    count-=1\n",
    "\n",
    "    text=text+\" \\n\"+Template+\" {} attempt remaining.\".format(count)\n",
    "    \n",
    "    \n",
    "    print(text)\n",
    "    \n",
    "    \n",
    "    if (count==0):\n",
    "        print(\"Correct answer:{}\".format(rand_country_name))\n",
    "    \n",
    "\n",
    "    \n",
    "    \n",
    "\n",
    "    \n",
    "    \n",
    "    \n",
    "\n",
    "\n",
    "    \n"
   ]
  },
  {
   "cell_type": "code",
   "execution_count": 13,
   "id": "900351d7",
   "metadata": {},
   "outputs": [
    {
     "data": {
      "image/png": "[encoded data removed]",
      "text/plain": [
       "<IPython.core.display.Image object>"
      ]
     },
     "execution_count": 13,
     "metadata": {},
     "output_type": "execute_result"
    }
   ],
   "source": [
    "display.Image(\"https://fvmstatic.s3.amazonaws.com/maps/m/{}-EPS-01-0001.png\".format(rand_country_code))\n"
   ]
  },
  {
   "cell_type": "code",
   "execution_count": null,
   "id": "8e946745",
   "metadata": {},
   "outputs": [],
   "source": []
  }
 ],
 "metadata": {
  "kernelspec": {
   "display_name": "Python 3",
   "language": "python",
   "name": "python3"
  },
  "language_info": {
   "codemirror_mode": {
    "name": "ipython",
    "version": 3
   },
   "file_extension": ".py",
   "mimetype": "text/x-python",
   "name": "python",
   "nbconvert_exporter": "python",
   "pygments_lexer": "ipython3",
   "version": "3.8.8"
  }
 },
 "nbformat": 4,
 "nbformat_minor": 5
}
